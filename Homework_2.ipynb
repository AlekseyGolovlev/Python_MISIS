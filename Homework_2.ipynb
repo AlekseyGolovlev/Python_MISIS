{
 "cells": [
  {
   "cell_type": "code",
   "execution_count": null,
   "id": "52b84a3f",
   "metadata": {},
   "outputs": [],
   "source": [
    "#1 - Вывод месяца\n",
    "Months = ['January', 'February', 'March', 'April', 'May', 'June', 'July', 'August', 'September', 'October', 'November', 'December']\n",
    "month = int(input())\n",
    "if (month <= 0) or (month > 12):\n",
    "    print('Введите корректный месяц')\n",
    "else:\n",
    "    print(Months[month - 1])"
   ]
  },
  {
   "cell_type": "code",
   "execution_count": null,
   "id": "5272f038",
   "metadata": {},
   "outputs": [],
   "source": [
    "#2 - Проверка расширения файла\n",
    "extensions = ['png', 'jpg', 'jpeg', 'gif', 'svg']\n",
    "file = input()\n",
    "search = file.find('.')\n",
    "ext = file[search+1:]\n",
    "if ext not in extensions:\n",
    "    print(f\"Прости, но разрешение файла {file} не подходит\")\n",
    "else:\n",
    "    print(f\"Разрешение файла {file} подходит\")"
   ]
  },
  {
   "cell_type": "code",
   "execution_count": null,
   "id": "2c12b79b",
   "metadata": {},
   "outputs": [],
   "source": [
    "#3 - Наибольший общий делитель\n",
    "a = int(input())\n",
    "b = int(input())\n",
    "while a != 0 and b != 0:\n",
    "    if a >= b:\n",
    "        a = a % b\n",
    "    elif a <= b:\n",
    "        b = b % a\n",
    "print(a + b)"
   ]
  },
  {
   "cell_type": "code",
   "execution_count": null,
   "id": "d34aaa28",
   "metadata": {},
   "outputs": [],
   "source": [
    "#3 - самый простой метод\n",
    "import math\n",
    "a = int(input())\n",
    "b = int(input())\n",
    "print(math.gcd(a, b))"
   ]
  },
  {
   "cell_type": "code",
   "execution_count": null,
   "id": "87c273e4",
   "metadata": {},
   "outputs": [],
   "source": [
    "#4 - Проверка на високосный год\n",
    "year = int(input())\n",
    "if year % 400 == 0:\n",
    "    print(f'{year} - это високосный год')\n",
    "elif year % 100 == 0:\n",
    "    print(f'{year} - это невисокосный год')\n",
    "elif year % 4 == 0:\n",
    "    print (f'{year} - это високосный год')\n",
    "else:\n",
    "    print('Это невискосный год')"
   ]
  },
  {
   "cell_type": "code",
   "execution_count": null,
   "id": "3a63ee72",
   "metadata": {},
   "outputs": [],
   "source": []
  }
 ],
 "metadata": {
  "kernelspec": {
   "display_name": "Python 3",
   "language": "python",
   "name": "python3"
  },
  "language_info": {
   "codemirror_mode": {
    "name": "ipython",
    "version": 3
   },
   "file_extension": ".py",
   "mimetype": "text/x-python",
   "name": "python",
   "nbconvert_exporter": "python",
   "pygments_lexer": "ipython3",
   "version": "3.8.8"
  }
 },
 "nbformat": 4,
 "nbformat_minor": 5
}
