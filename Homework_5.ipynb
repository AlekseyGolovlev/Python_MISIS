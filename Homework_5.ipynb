{
 "cells": [
  {
   "cell_type": "markdown",
   "id": "b17683e9",
   "metadata": {},
   "source": [
    "Задача 1. Напишите программу с классом Student, в котором есть три атрибута: name, groupNumber и age. По умолчанию name = Ivan, age = 18, groupNumber = 10A. Необходимо создать пять методов: getName, getAge, getGroupNumber, setNameAge, setGroupNumber. Метод getName нужен для получения данных об имени конкретного студента, метод getAge нужен для получения данных о возрасте конкретного студента, vетод setGroupNumberнужен для получения данных о номере группы конкретного студента. Метод SetNameAge позволяет изменить данные атрибутов установленных по умолчанию, метод setGroupNumber позволяет изменить номер группы установленный по умолчанию. В программе необходимо создать пять экземпляров класса Student, установить им разные имена, возраст и номер группы."
   ]
  },
  {
   "cell_type": "code",
   "execution_count": null,
   "id": "769e7657",
   "metadata": {},
   "outputs": [],
   "source": [
    "class Student:\n",
    "    def __init__(self, name = 'Ivan', groupNumber = '10A', age = 18):\n",
    "        self.name = name\n",
    "        self.groupNumber = groupNumber\n",
    "        self.age = age\n",
    "        \n",
    "    def getName(self):\n",
    "        return self.name\n",
    "    \n",
    "    def getGroupNumber(self):\n",
    "        return self.groupNumber\n",
    "    \n",
    "    def getAge(self):\n",
    "        return self.age\n",
    "    \n",
    "    def setNameAge(self):\n",
    "        self.name = input()\n",
    "        self.age = int(input())\n",
    "        return self.name and self.age\n",
    "    \n",
    "    def setGroupNumber(self):\n",
    "        self.groupNumber = input()\n",
    "        return self.groupNumber\n",
    "\n",
    "Student1 = Student()\n",
    "Student2 = Student()\n",
    "Student3 = Student()\n",
    "Student4 = Student()\n",
    "Student5 = Student()"
   ]
  },
  {
   "cell_type": "code",
   "execution_count": null,
   "id": "163b7050",
   "metadata": {
    "scrolled": true
   },
   "outputs": [],
   "source": [
    "Student1.setNameAge()\n",
    "Student1.setGroupNumber()\n",
    "Student2.setNameAge()\n",
    "Student2.setGroupNumber()\n",
    "Student3.setNameAge()\n",
    "Student3.setGroupNumber()\n",
    "Student4.setNameAge()\n",
    "Student4.setGroupNumber()\n",
    "Student5.setNameAge()\n",
    "Student5.setGroupNumber()"
   ]
  },
  {
   "cell_type": "code",
   "execution_count": null,
   "id": "08d7e414",
   "metadata": {},
   "outputs": [],
   "source": [
    "print(Student1.getName(), Student1.getAge(), Student1.getGroupNumber())\n",
    "print(Student2.getName(), Student2.getAge(), Student2.getGroupNumber())\n",
    "print(Student3.getName(), Student3.getAge(), Student3.getGroupNumber())\n",
    "print(Student4.getName(), Student4.getAge(), Student4.getGroupNumber())\n",
    "print(Student5.getName(), Student5.getAge(), Student5.getGroupNumber())"
   ]
  },
  {
   "cell_type": "markdown",
   "id": "b1bda0a7",
   "metadata": {},
   "source": [
    "Задача 2. Напишите программу с классом Car. Создайте конструктор класса Car. Создайте атрибуты класса Car — color (цвет), type (тип), year (год). Напишите пять методов. Первый — запуск автомобиля, при его вызове выводится сообщение «Автомобиль заведен». Второй — отключение автомобиля — выводит сообщение «Автомобиль заглушен». Третий — присвоение автомобилю года выпуска. Четвертый метод — присвоение автомобилю типа. Пятый — присвоение автомобилю цвета."
   ]
  },
  {
   "cell_type": "code",
   "execution_count": null,
   "id": "b35a489d",
   "metadata": {},
   "outputs": [],
   "source": [
    "class Car(object):\n",
    "    def __init__(self):\n",
    "        self.color = 'black'\n",
    "        self.tip = 'Jip'\n",
    "        self.year = 2018\n",
    "    \n",
    "    def __str__(self):\n",
    "        return \"%s %s %s\" % (\n",
    "            self.color, self.tip, self.year\n",
    "        )\n",
    "    \n",
    "    def start(self):\n",
    "        print('Автомобиль заведен')\n",
    "        \n",
    "    def stop(self):\n",
    "        print('Автомобиль заглушен')\n",
    "        \n",
    "    def setYear(self, newyear):\n",
    "        self.year = newyear\n",
    "        \n",
    "    def setType(self, newtype):\n",
    "        self.tip = newtype\n",
    "        \n",
    "    def setColour(self, newcolor):\n",
    "        self.color = newcolor"
   ]
  },
  {
   "cell_type": "code",
   "execution_count": null,
   "id": "0f793fb3",
   "metadata": {},
   "outputs": [],
   "source": [
    "mycar = Car()\n",
    "print(mycar)"
   ]
  },
  {
   "cell_type": "code",
   "execution_count": null,
   "id": "9d55cff9",
   "metadata": {},
   "outputs": [],
   "source": [
    "mycar.setYear(2020)\n",
    "mycar.setType('Racing_car')\n",
    "mycar.setColour('White')\n",
    "print(mycar)\n",
    "mycar.start()"
   ]
  },
  {
   "cell_type": "markdown",
   "id": "b015e7f2",
   "metadata": {},
   "source": [
    "Задача 3. Допишите функцию Nutrionm"
   ]
  },
  {
   "cell_type": "code",
   "execution_count": 1,
   "id": "6be110b5",
   "metadata": {},
   "outputs": [],
   "source": [
    "class NutritionInfo:\n",
    "    def __init__(self, proteins, carbs, fats):\n",
    "        self.proteins = proteins\n",
    "        self.carbs = carbs\n",
    "        self.fats = fats\n",
    "    \n",
    "    def __add__(self, other):\n",
    "        return NutritionInfo(self.proteins + other.proteins, self.carbs + other.carbs, self.fats + other.fats)\n",
    "    \n",
    "    def __sub__(self, other):\n",
    "        return NutritionInfo(self.proteins - other.proteins, self.carbs - other.carbs, self.fats - other.fats)\n",
    "    \n",
    "    def __rmul__(self, num):\n",
    "        return NutritionInfo(self.proteins * num, self.carbs * num, self.fats * num)\n",
    "    \n",
    "    def __mul__(self, num):\n",
    "        return NutritionInfo(self.proteins * num, self.carbs * num, self.fats * num)\n",
    "    \n",
    "    def __str__(self):\n",
    "        return f\"Nutrition p {self.proteins}, c {self.carbs}, f {self.fats}\"\n",
    "    \n",
    "    def __gt__(self, other):\n",
    "        return ('p', self.proteins > other.proteins, 'c', self.carbs > other.carbs, 'f', self.fats > other.fats)\n",
    "    \n",
    "    def __eq__(self, other):\n",
    "        return ('p', self.proteins == other.proteins, 'c', self.carbs == other.carbs, 'f', self.fats == other.fats)\n",
    "        \n",
    "    def energy(self):\n",
    "        return int(self.fats * 9 + (self.carbs + self.proteins) * 4.2)"
   ]
  },
  {
   "cell_type": "code",
   "execution_count": 11,
   "id": "6135bca8",
   "metadata": {},
   "outputs": [
    {
     "data": {
      "text/plain": [
       "331"
      ]
     },
     "execution_count": 11,
     "metadata": {},
     "output_type": "execute_result"
    }
   ],
   "source": [
    "egg = NutritionInfo(3, 2, 1)\n",
    "bread = NutritionInfo(1, 5, 1)\n",
    "tvorog = NutritionInfo(3, 2, 5)\n",
    "breakfast = egg * 2 + tvorog + 3 * 2 * bread\n",
    "breakfast.energy()"
   ]
  },
  {
   "cell_type": "code",
   "execution_count": null,
   "id": "e306d520",
   "metadata": {},
   "outputs": [],
   "source": []
  },
  {
   "cell_type": "code",
   "execution_count": null,
   "id": "a66381a4",
   "metadata": {},
   "outputs": [],
   "source": []
  },
  {
   "cell_type": "code",
   "execution_count": null,
   "id": "0d9d0302",
   "metadata": {},
   "outputs": [],
   "source": []
  }
 ],
 "metadata": {
  "kernelspec": {
   "display_name": "Python 3",
   "language": "python",
   "name": "python3"
  },
  "language_info": {
   "codemirror_mode": {
    "name": "ipython",
    "version": 3
   },
   "file_extension": ".py",
   "mimetype": "text/x-python",
   "name": "python",
   "nbconvert_exporter": "python",
   "pygments_lexer": "ipython3",
   "version": "3.8.8"
  }
 },
 "nbformat": 4,
 "nbformat_minor": 5
}
