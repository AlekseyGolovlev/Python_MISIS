{
 "cells": [
  {
   "cell_type": "code",
   "execution_count": null,
   "id": "8587ba22",
   "metadata": {},
   "outputs": [],
   "source": [
    "#1 - Функция для квадрата числа\n",
    "def pow(num):\n",
    "    return num ** 2\n",
    "\n",
    "pow(6)"
   ]
  },
  {
   "cell_type": "code",
   "execution_count": null,
   "id": "7a7e1081",
   "metadata": {},
   "outputs": [],
   "source": [
    "#2 - Перепишите ваш код для проверки расширения из прошлого ДЗ в функцию которая принимает список расширений и имя файла\n",
    "def extensions_check(extensions, file):\n",
    "    search = file.find('.')\n",
    "    ext = file[search+1:]\n",
    "    if ext not in extensions:\n",
    "        print(f\"Прости, но разрешение файла {file} не подходит\")\n",
    "    else:\n",
    "        print(f\"Разрешение файла {file} подходит\")\n",
    "        \n",
    "extensions_check(extensions = ('png', 'jpg', 'jpeg', 'gif', 'svg'), file = input())"
   ]
  },
  {
   "cell_type": "code",
   "execution_count": null,
   "id": "031aad1d",
   "metadata": {},
   "outputs": [],
   "source": [
    "#3 - Слить воедино 3 словаря\n",
    "dict_a = {1:10, 2:20}\n",
    "dict_b = {3:30, 4:40}\n",
    "dict_c = {5:50, 6:60}\n",
    "dict_sum = {**dict_a, **dict_b, **dict_c}\n",
    "dict_sum"
   ]
  },
  {
   "cell_type": "code",
   "execution_count": null,
   "id": "718d1864",
   "metadata": {},
   "outputs": [],
   "source": [
    "#4 - Напишите функцию которая будет складывать цифры внутри числа\n",
    "def sum_of_numbers(num):\n",
    "    num_map = map(int, str(num))\n",
    "    list_num = list(num_map)\n",
    "    sum = 0\n",
    "    for i in list_num:\n",
    "        sum = sum + i\n",
    "    return sum\n",
    "\n",
    "sum_of_numbers(num = input())"
   ]
  },
  {
   "cell_type": "code",
   "execution_count": null,
   "id": "e7784379",
   "metadata": {},
   "outputs": [],
   "source": [
    "#6 - Нужно проверить, все ли числа в последовательности уникальны.\n",
    "def unique_check(numbers):\n",
    "    s = 0\n",
    "    for i in numbers:\n",
    "        if numbers.count(i) > 1:\n",
    "            s = s + 1\n",
    "    if s > 0:\n",
    "        print(f'Значения в списке повторяются {s} раз(а)')       \n",
    "    else:\n",
    "        print('Значения в списке не повторяются')\n",
    "                \n",
    "unique_check(numbers = [int(i) for i in input().split(' ')])"
   ]
  },
  {
   "cell_type": "code",
   "execution_count": null,
   "id": "8930d01e",
   "metadata": {},
   "outputs": [],
   "source": [
    "#6.1 - Создать функцию, которая просто печатает все элементы заданного ей списка\n",
    "def print_list(my_list):\n",
    "    for i, j in enumerate(my_list):\n",
    "        print(f'Номер {i} --> {j}')\n",
    "\n",
    "print_list(my_list = [1, 2, 3, 'Б', 'Что-то']) #Тут подается на вход строка через пробел"
   ]
  },
  {
   "cell_type": "code",
   "execution_count": null,
   "id": "6ff34742",
   "metadata": {},
   "outputs": [],
   "source": [
    "#6.2 - Создать функцию, которая просто печатает все элементы заданного словаря\n",
    "def print_dict(my_dict):\n",
    "    for i,k in my_dict.items():    \n",
    "        print(f'Ключ {i} --> значение {k}')\n",
    "\n",
    "print_dict(my_dict = {\"key1\": 2, \"key3\": False, \"Приветствие\": \"Hello\"})"
   ]
  },
  {
   "cell_type": "code",
   "execution_count": null,
   "id": "b7e3766b",
   "metadata": {},
   "outputs": [],
   "source": [
    "#6.3 - Печать списка или словаря\n",
    "def list_or_dict(smth):\n",
    "    if type(smth) is list:\n",
    "        print_list(smth)\n",
    "    elif type(smth) is dict:\n",
    "        print_dict(smth)\n",
    "    else:\n",
    "        return smth\n",
    "        \n",
    "list_or_dict(smth = ['Ну', 'вроде', 'бы', 'даже', 'работает', '!'])\n",
    "print('\\n')\n",
    "list_or_dict(smth = dict(key1=1, key2=[1, 2, 3, 4], key3='Hello', key4={\"ciao\":\"Mondo\", \"Привет\": \"О дивный мир\"}))\n",
    "print('\\n')\n",
    "list_or_dict(smth = 112123)"
   ]
  },
  {
   "cell_type": "code",
   "execution_count": null,
   "id": "1558ad8b",
   "metadata": {},
   "outputs": [],
   "source": [
    "#7.1 - Написать функцию, которая на вход получает фразу и печатает все отдельные слова из этой фразы (токены)\n",
    "def print_slova(stroka):\n",
    "    for i,j in enumerate(stroka):\n",
    "        print(j)\n",
    "    print('Слов в строке:', i + 1)\n",
    "\n",
    "print_slova(stroka = input().split(' ')) #Тут подается на вход фраза"
   ]
  },
  {
   "cell_type": "code",
   "execution_count": null,
   "id": "8bafb2c2",
   "metadata": {},
   "outputs": [],
   "source": [
    "#7.1 - То же самое, только через while\n",
    "def print_slova(stroka_input):\n",
    "    str_to_list = list(stroka_input)\n",
    "    i = 0\n",
    "    while i < len(str_to_list):\n",
    "        print(str_to_list[i])\n",
    "        i = i + 1\n",
    "    \n",
    "print_slova(stroka_input = input().split(' ')) #Тут подается на вход фраза"
   ]
  },
  {
   "cell_type": "code",
   "execution_count": null,
   "id": "ae4fb6e8",
   "metadata": {},
   "outputs": [],
   "source": [
    "#7.2 - Посчитать вес каждого слова в строке\n",
    "def print_slova(spisok):\n",
    "    for i,j in enumerate(spisok):\n",
    "        print(j)\n",
    "    print('Слов в строке:', i + 1, '\\n')\n",
    "    \n",
    "    for i,j in enumerate(spisok):\n",
    "        print(f'Частота встречаемости слова {j}:', round(spisok.count(j) / len(spisok) * 100, 2))\n",
    "\n",
    "print_slova(spisok = input().split(' ')) #Тут подается на вход фраза"
   ]
  },
  {
   "cell_type": "code",
   "execution_count": null,
   "id": "b8805a6f",
   "metadata": {},
   "outputs": [],
   "source": []
  }
 ],
 "metadata": {
  "kernelspec": {
   "display_name": "Python 3",
   "language": "python",
   "name": "python3"
  },
  "language_info": {
   "codemirror_mode": {
    "name": "ipython",
    "version": 3
   },
   "file_extension": ".py",
   "mimetype": "text/x-python",
   "name": "python",
   "nbconvert_exporter": "python",
   "pygments_lexer": "ipython3",
   "version": "3.8.8"
  }
 },
 "nbformat": 4,
 "nbformat_minor": 5
}
