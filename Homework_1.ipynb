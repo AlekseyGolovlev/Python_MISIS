{
 "cells": [
  {
   "cell_type": "code",
   "execution_count": null,
   "id": "949dfc6d",
   "metadata": {},
   "outputs": [],
   "source": [
    "#Задача 1: Представить секунды в формате \"дни, часы, минуты, секунды\"\n",
    "Seconds = int(input('Введите секунды '))\n",
    "if Seconds >= 0:\n",
    "    days = (Seconds) // 86400\n",
    "    hours = (Seconds // 60) // 60\n",
    "    minutes = (Seconds // 60) % 60\n",
    "    seconds = Seconds % 60\n",
    "    if days >= 1:\n",
    "        hours = hours - 24 * days\n",
    "    print(days,'дд', hours,'чч', minutes, 'мм', seconds, 'сс')\n",
    "else:\n",
    "    print('Введите верное значение!')"
   ]
  },
  {
   "cell_type": "code",
   "execution_count": null,
   "id": "cdd1759e",
   "metadata": {},
   "outputs": [],
   "source": [
    "#Задача 2: Калькулятор, который принимает 2 числа и операцию (+,-,*,/) на вход\n",
    "a = float(input('Введите первое число '))\n",
    "b = float(input('Введите второе число '))\n",
    "operation = input('Введите операцию ')\n",
    "if operation == '+':\n",
    "    print(a + b)\n",
    "elif operation == '-':\n",
    "    print(a - b)\n",
    "elif operation == '*':\n",
    "    print(a * b)\n",
    "elif operation == \"/\":\n",
    "    if b == 0:\n",
    "        print('Деление на 0 невозможно')\n",
    "    else:\n",
    "        print(a / b)\n",
    "else:\n",
    "    print('Введите корректную операцию')"
   ]
  }
 ],
 "metadata": {
  "kernelspec": {
   "display_name": "Python 3",
   "language": "python",
   "name": "python3"
  },
  "language_info": {
   "codemirror_mode": {
    "name": "ipython",
    "version": 3
   },
   "file_extension": ".py",
   "mimetype": "text/x-python",
   "name": "python",
   "nbconvert_exporter": "python",
   "pygments_lexer": "ipython3",
   "version": "3.8.8"
  }
 },
 "nbformat": 4,
 "nbformat_minor": 5
}
