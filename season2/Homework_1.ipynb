{
 "cells": [
  {
   "cell_type": "code",
   "execution_count": 1,
   "id": "16898362",
   "metadata": {
    "scrolled": true
   },
   "outputs": [
    {
     "name": "stdout",
     "output_type": "stream",
     "text": [
      "Node with value 1\n",
      "Node with value 2\n",
      "Node with value 3\n",
      "Node with value Внезапно\n",
      "Node with value 5\n",
      "\n",
      "\n",
      "Node with value 5\n",
      "Node with value Внезапно\n",
      "Node with value 3\n",
      "Node with value 2\n",
      "Node with value 1\n"
     ]
    }
   ],
   "source": [
    "#Задача 1\n",
    "class Node(object):\n",
    "    def __init__(self, value=None, next_node=None):\n",
    "        self.value = value\n",
    "        self.next = next_node\n",
    "\n",
    "    def __str__(self):\n",
    "        return f\"Node with value {self.value}\"\n",
    "\n",
    "\n",
    "def print_linked_list(head):\n",
    "    while head:\n",
    "        print(head)\n",
    "        head = head.next\n",
    "        \n",
    "def reverse_linked_list(head, last = None):\n",
    "    cur = head\n",
    "    head = last\n",
    "    while cur is not None:\n",
    "        cur.next, cur, last = last, cur.next, cur\n",
    "    return last\n",
    "        \n",
    "a, b, c, d, e = Node(1), Node(2), Node(3), Node(\"Внезапно\"), Node(5)\n",
    "\n",
    "a.next = b\n",
    "b.next = c\n",
    "c.next = d\n",
    "d.next = e\n",
    "\n",
    "print_linked_list(a)\n",
    "print('\\n')\n",
    "print_linked_list(reverse_linked_list(a))"
   ]
  },
  {
   "cell_type": "code",
   "execution_count": 3,
   "id": "40acfad9",
   "metadata": {},
   "outputs": [
    {
     "name": "stdout",
     "output_type": "stream",
     "text": [
      "9 --> 2 --> 1 --> 3 --> 33 --> 7\n",
      "\n",
      "1 --> 2 --> 3 --> 7 --> 9 --> 33"
     ]
    }
   ],
   "source": [
    "#Задача 2\n",
    "class Node(object):\n",
    "    \n",
    "    def __init__(self, value = None, next_node = None):\n",
    "        self.value = value\n",
    "        self.next = next_node\n",
    "\n",
    "    def __str__(self):\n",
    "        return f\"{self.value}\"\n",
    "    \n",
    "def print_linked_list(head):\n",
    "    while head:\n",
    "        print(head, end =' --> ' if head.next is not None else '')\n",
    "        head = head.next\n",
    "            \n",
    "def bubble_sort(head):\n",
    "    is_sorted = False\n",
    "    while not is_sorted:\n",
    "        cur = head\n",
    "        is_sorted = True\n",
    "        while cur is not None:\n",
    "            if cur.next is not None and cur.value > cur.next.value:\n",
    "                cur.value, cur.next.value = cur.next.value, cur.value\n",
    "                is_sorted = False\n",
    "            cur = cur.next\n",
    "        \n",
    "a, b, c, d, e, f = Node(9), Node(2), Node(1), Node(3), Node(33), Node()\n",
    "\n",
    "a.next = b\n",
    "b.next = c\n",
    "c.next = d\n",
    "d.next = e\n",
    "e.next = f\n",
    "\n",
    "print_linked_list(a)\n",
    "bubble_sort(a)\n",
    "print('\\n')\n",
    "print_linked_list(a)"
   ]
  },
  {
   "cell_type": "code",
   "execution_count": 7,
   "id": "d94b7412",
   "metadata": {},
   "outputs": [],
   "source": [
    "# Задача 3 Pandas\n",
    "# 1) Выясните, сколько в среднем выходит полный счёт по пятницам на ланч у курящих мужчин (датасет tips)\n",
    "\n",
    "# 2) Загрузите iris и посмотрите разбросы по всем числовым значениям для всех трёх классов цветов (датасет iris)\n",
    "\n",
    "# 3) Создайте новый столбец с плотностью населения. Переименуйте названия первого и третьего столбца на русский язык"
   ]
  },
  {
   "cell_type": "code",
   "execution_count": 8,
   "id": "f8c775e8",
   "metadata": {},
   "outputs": [
    {
     "name": "stdout",
     "output_type": "stream",
     "text": [
      "\n",
      " Средний счет за ланч 11.386666666666668 тугриков\n"
     ]
    }
   ],
   "source": [
    "#Задача 3.1\n",
    "import pandas as pd\n",
    "import seaborn as sns\n",
    "tips = sns.load_dataset('tips')\n",
    "mask = (tips['sex'] == 'Male') & (tips['smoker'] == 'Yes') & (tips['day'] == 'Fri') & (tips['time'] == 'Lunch')\n",
    "# print(tips[mask]['total_bill'].describe())\n",
    "print('\\n', 'Средний счет за ланч', tips[mask]['total_bill'].mean(), 'тугриков')"
   ]
  },
  {
   "cell_type": "code",
   "execution_count": 9,
   "id": "ce1c70a5",
   "metadata": {},
   "outputs": [
    {
     "name": "stdout",
     "output_type": "stream",
     "text": [
      "Разброс значений для датасета iris\n"
     ]
    },
    {
     "data": {
      "text/html": [
       "<div>\n",
       "<style scoped>\n",
       "    .dataframe tbody tr th:only-of-type {\n",
       "        vertical-align: middle;\n",
       "    }\n",
       "\n",
       "    .dataframe tbody tr th {\n",
       "        vertical-align: top;\n",
       "    }\n",
       "\n",
       "    .dataframe thead th {\n",
       "        text-align: right;\n",
       "    }\n",
       "</style>\n",
       "<table border=\"1\" class=\"dataframe\">\n",
       "  <thead>\n",
       "    <tr style=\"text-align: right;\">\n",
       "      <th></th>\n",
       "      <th>sepal_length</th>\n",
       "      <th>sepal_width</th>\n",
       "      <th>petal_length</th>\n",
       "      <th>petal_width</th>\n",
       "    </tr>\n",
       "    <tr>\n",
       "      <th>species</th>\n",
       "      <th></th>\n",
       "      <th></th>\n",
       "      <th></th>\n",
       "      <th></th>\n",
       "    </tr>\n",
       "  </thead>\n",
       "  <tbody>\n",
       "    <tr>\n",
       "      <th>setosa</th>\n",
       "      <td>1.5</td>\n",
       "      <td>2.1</td>\n",
       "      <td>0.9</td>\n",
       "      <td>0.5</td>\n",
       "    </tr>\n",
       "    <tr>\n",
       "      <th>versicolor</th>\n",
       "      <td>2.1</td>\n",
       "      <td>1.4</td>\n",
       "      <td>2.1</td>\n",
       "      <td>0.8</td>\n",
       "    </tr>\n",
       "    <tr>\n",
       "      <th>virginica</th>\n",
       "      <td>3.0</td>\n",
       "      <td>1.6</td>\n",
       "      <td>2.4</td>\n",
       "      <td>1.1</td>\n",
       "    </tr>\n",
       "  </tbody>\n",
       "</table>\n",
       "</div>"
      ],
      "text/plain": [
       "            sepal_length  sepal_width  petal_length  petal_width\n",
       "species                                                         \n",
       "setosa               1.5          2.1           0.9          0.5\n",
       "versicolor           2.1          1.4           2.1          0.8\n",
       "virginica            3.0          1.6           2.4          1.1"
      ]
     },
     "metadata": {},
     "output_type": "display_data"
    }
   ],
   "source": [
    "import pandas as pd\n",
    "import seaborn as sns\n",
    "import numpy as np\n",
    "iris = sns.load_dataset('iris')\n",
    "print('Разброс значений для датасета iris')\n",
    "dnm=iris.groupby('species').agg(np.ptp)\n",
    "display(dnm)"
   ]
  },
  {
   "cell_type": "code",
   "execution_count": 10,
   "id": "0ae424a7",
   "metadata": {},
   "outputs": [],
   "source": [
    "# import numpy as np\n",
    "# dates = pd.date_range('20130101',periods=6)\n",
    "# df = pd.DataFrame(np.random.randn(6,4),index=dates,columns=list('ABCD'))\n",
    "# df.loc[:, 'Плотность населения'] = list('123456')\n",
    "# df.rename(columns = {'A' : 'лллл', 'C' : 'ъыъ'}, inplace=True)\n",
    "# df"
   ]
  },
  {
   "cell_type": "code",
   "execution_count": 11,
   "id": "d9b9ac9b",
   "metadata": {},
   "outputs": [
    {
     "data": {
      "text/html": [
       "<div>\n",
       "<style scoped>\n",
       "    .dataframe tbody tr th:only-of-type {\n",
       "        vertical-align: middle;\n",
       "    }\n",
       "\n",
       "    .dataframe tbody tr th {\n",
       "        vertical-align: top;\n",
       "    }\n",
       "\n",
       "    .dataframe thead th {\n",
       "        text-align: right;\n",
       "    }\n",
       "</style>\n",
       "<table border=\"1\" class=\"dataframe\">\n",
       "  <thead>\n",
       "    <tr style=\"text-align: right;\">\n",
       "      <th></th>\n",
       "      <th>Страна</th>\n",
       "      <th>population</th>\n",
       "      <th>Площадь</th>\n",
       "      <th>Плотность населения</th>\n",
       "    </tr>\n",
       "  </thead>\n",
       "  <tbody>\n",
       "    <tr>\n",
       "      <th>0</th>\n",
       "      <td>Kazakhstan</td>\n",
       "      <td>17.04</td>\n",
       "      <td>2724902</td>\n",
       "      <td>6.253436</td>\n",
       "    </tr>\n",
       "    <tr>\n",
       "      <th>1</th>\n",
       "      <td>Russia</td>\n",
       "      <td>143.50</td>\n",
       "      <td>17125191</td>\n",
       "      <td>8.379469</td>\n",
       "    </tr>\n",
       "    <tr>\n",
       "      <th>2</th>\n",
       "      <td>Belarus</td>\n",
       "      <td>9.50</td>\n",
       "      <td>207600</td>\n",
       "      <td>45.761079</td>\n",
       "    </tr>\n",
       "    <tr>\n",
       "      <th>3</th>\n",
       "      <td>Ukraine</td>\n",
       "      <td>45.50</td>\n",
       "      <td>603628</td>\n",
       "      <td>75.377550</td>\n",
       "    </tr>\n",
       "  </tbody>\n",
       "</table>\n",
       "</div>"
      ],
      "text/plain": [
       "       Страна  population   Площадь  Плотность населения\n",
       "0  Kazakhstan       17.04   2724902             6.253436\n",
       "1      Russia      143.50  17125191             8.379469\n",
       "2     Belarus        9.50    207600            45.761079\n",
       "3     Ukraine       45.50    603628            75.377550"
      ]
     },
     "metadata": {},
     "output_type": "display_data"
    }
   ],
   "source": [
    "#3) Создайте новый столбец с плотностью населения. Переименуйте названия первого и третьего столбца на русский язык\n",
    "import pandas as pd\n",
    "df = pd.DataFrame({\n",
    "     'country': ['Kazakhstan', 'Russia', 'Belarus', 'Ukraine'],\n",
    "     'population': [17.04, 143.5, 9.5, 45.5],\n",
    "     'square': [2724902, 17125191, 207600, 603628]\n",
    " })\n",
    "df.rename(columns = {'country' : 'Страна', 'square' : 'Площадь'}, inplace = True)\n",
    "df['Плотность населения'] = df['population'] * 1000000 / df['Площадь']\n",
    "display(df)"
   ]
  },
  {
   "cell_type": "code",
   "execution_count": null,
   "id": "452da251",
   "metadata": {},
   "outputs": [],
   "source": []
  }
 ],
 "metadata": {
  "kernelspec": {
   "display_name": "Python 3 (ipykernel)",
   "language": "python",
   "name": "python3"
  },
  "language_info": {
   "codemirror_mode": {
    "name": "ipython",
    "version": 3
   },
   "file_extension": ".py",
   "mimetype": "text/x-python",
   "name": "python",
   "nbconvert_exporter": "python",
   "pygments_lexer": "ipython3",
   "version": "3.8.12"
  }
 },
 "nbformat": 4,
 "nbformat_minor": 5
}
