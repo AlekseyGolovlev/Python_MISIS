{
 "cells": [
  {
   "cell_type": "code",
   "execution_count": null,
   "id": "16898362",
   "metadata": {
    "scrolled": true
   },
   "outputs": [],
   "source": [
    "#Задача 1\n",
    "class Node(object):\n",
    "    def __init__(self, value=None, next_node=None):\n",
    "        self.value = value\n",
    "        self.next = next_node\n",
    "\n",
    "    def __str__(self):\n",
    "        return f\"Node with value {self.value}\"\n",
    "\n",
    "\n",
    "def print_linked_list(head):\n",
    "    while head:\n",
    "        print(head)\n",
    "        head = head.next\n",
    "        \n",
    "def reverse_linked_list(head, last = None):\n",
    "    cur = head\n",
    "    head = last\n",
    "    while cur is not None:\n",
    "        cur.next, cur, last = last, cur.next, cur\n",
    "    return last\n",
    "        \n",
    "a, b, c, d, e = Node(1), Node(2), Node(3), Node(\"Внезапно\"), Node(5)\n",
    "\n",
    "a.next = b\n",
    "b.next = c\n",
    "c.next = d\n",
    "d.next = e\n",
    "\n",
    "print_linked_list(a)\n",
    "print('\\n')\n",
    "print_linked_list(reverse_linked_list(a))"
   ]
  },
  {
   "cell_type": "code",
   "execution_count": null,
   "id": "40acfad9",
   "metadata": {},
   "outputs": [],
   "source": [
    "#Задача 2\n",
    "class Node(object):\n",
    "    \n",
    "    def __init__(self, value = None, next_node = None):\n",
    "        self.value = value\n",
    "        self.next = next_node\n",
    "\n",
    "    def __str__(self):\n",
    "        return f\"{self.value}\"\n",
    "    \n",
    "def print_linked_list(head):\n",
    "    while head:\n",
    "        print(head, end =' --> ' if head.next is not None else '')\n",
    "        head = head.next\n",
    "            \n",
    "def bubble_sort(head):\n",
    "    is_sorted = False\n",
    "    while not is_sorted:\n",
    "        cur = head\n",
    "        is_sorted = True\n",
    "        while cur is not None:\n",
    "            if cur.next is not None and cur.value > cur.next.value:\n",
    "                cur.value, cur.next.value = cur.next.value, cur.value\n",
    "                is_sorted = False\n",
    "            cur = cur.next\n",
    "        \n",
    "a, b, c, d, e, f = Node(9), Node(2), Node(1), Node(3), Node(7), Node(33)\n",
    "\n",
    "a.next = b\n",
    "b.next = c\n",
    "c.next = d\n",
    "d.next = e\n",
    "e.next = f\n",
    "\n",
    "print_linked_list(a)\n",
    "bubble_sort(a)\n",
    "print('\\n')\n",
    "print_linked_list(a)"
   ]
  },
  {
   "cell_type": "code",
   "execution_count": null,
   "id": "d94b7412",
   "metadata": {},
   "outputs": [],
   "source": [
    "Задача 3 Pandas\n",
    "1) Выясните, сколько в среднем выходит полный счёт по пятницам на ланч у курящих мужчин (датасет tips)\n",
    "\n",
    "2) Загрузите iris и посмотрите разбросы по всем числовым значениям для всех трёх классов цветов (датасет iris)\n",
    "\n",
    "3) Создайте новый столбец с плотностью населения. Переименуйте названия первого и третьего столбца на русский язык"
   ]
  },
  {
   "cell_type": "code",
   "execution_count": null,
   "id": "f8c775e8",
   "metadata": {},
   "outputs": [],
   "source": [
    "#Задача 3.1\n",
    "import pandas as pd\n",
    "import seaborn as sns\n",
    "tips = sns.load_dataset('tips')\n",
    "mask = (tips['sex'] == 'Male') & (tips['smoker'] == 'Yes') & (tips['day'] == 'Fri') & (tips['time'] == 'Lunch')\n",
    "# print(tips[mask]['total_bill'].describe())\n",
    "print('\\n', 'Средний счет за ланч', tips[mask]['total_bill'].mean(), 'тугриков')"
   ]
  },
  {
   "cell_type": "code",
   "execution_count": null,
   "id": "147395da",
   "metadata": {},
   "outputs": [],
   "source": [
    "#Задача 3.2\n",
    "iris['species'].unique()"
   ]
  },
  {
   "cell_type": "code",
   "execution_count": null,
   "id": "ce1c70a5",
   "metadata": {},
   "outputs": [],
   "source": [
    "import pandas as pd\n",
    "import seaborn as sns\n",
    "import matplotlib.pyplot as plt\n",
    "iris = sns.load_dataset('iris')\n",
    "mask1 = iris['species'] == 'setosa'\n",
    "print('Setosa')\n",
    "iris[mask1].describe()"
   ]
  },
  {
   "cell_type": "code",
   "execution_count": null,
   "id": "5928dc0c",
   "metadata": {},
   "outputs": [],
   "source": [
    "mask2 = iris['species'] == 'versicolor'\n",
    "print('Versicolor')\n",
    "iris[mask2].describe()"
   ]
  },
  {
   "cell_type": "code",
   "execution_count": null,
   "id": "f89e71ff",
   "metadata": {},
   "outputs": [],
   "source": [
    "mask3 = iris['species'] == 'virginica'\n",
    "print('Virginica')\n",
    "iris[mask3].describe()"
   ]
  },
  {
   "cell_type": "code",
   "execution_count": null,
   "id": "0ae424a7",
   "metadata": {},
   "outputs": [],
   "source": [
    "#3) Создайте новый столбец с плотностью населения. Переименуйте названия первого и третьего столбца на русский язык\n",
    "import numpy as np\n",
    "dates = pd.date_range('20130101',periods=6)\n",
    "df = pd.DataFrame(np.random.randn(6,4),index=dates,columns=list('ABCD'))\n",
    "df.loc[:, 'Плотность населения'] = list('123456')\n",
    "df.rename(columns = {'A' : 'лллл', 'C' : 'ъыъ'}, inplace=True)\n",
    "df"
   ]
  },
  {
   "cell_type": "code",
   "execution_count": null,
   "id": "d9b9ac9b",
   "metadata": {},
   "outputs": [],
   "source": []
  }
 ],
 "metadata": {
  "kernelspec": {
   "display_name": "Python 3 (ipykernel)",
   "language": "python",
   "name": "python3"
  },
  "language_info": {
   "codemirror_mode": {
    "name": "ipython",
    "version": 3
   },
   "file_extension": ".py",
   "mimetype": "text/x-python",
   "name": "python",
   "nbconvert_exporter": "python",
   "pygments_lexer": "ipython3",
   "version": "3.8.12"
  }
 },
 "nbformat": 4,
 "nbformat_minor": 5
}
